{
 "cells": [
  {
   "cell_type": "code",
   "execution_count": 1,
   "id": "e3843b34",
   "metadata": {},
   "outputs": [],
   "source": [
    "# Import necessary librariesimport pandas as pd\n",
    "\n",
    "from sklearn.feature_extraction.text import TfidfVectorizer, CountVectorizer\n",
    "from sklearn import decomposition\n",
    "import matplotlib.pyplot as plt\n",
    "import numpy as np\n",
    "import re\n",
    "import nltk\n",
    "from nltk.stem.porter import PorterStemmer\n",
    "from sklearn.model_selection import train_test_split\n",
    "import os\n",
    "from sklearn.cluster import KMeans\n",
    "from sklearn.linear_model import LogisticRegression\n",
    "from sklearn.metrics import accuracy_score, precision_score, recall_score, f1_score, roc_auc_score, classification_report, confusion_matrix, roc_curve, auc\n",
    "from sklearn.naive_bayes import MultinomialNB\n",
    "from sklearn.decomposition import LatentDirichletAllocation\n",
    "import pandas as pd"
   ]
  },
  {
   "cell_type": "code",
   "execution_count": 2,
   "id": "62d168a6",
   "metadata": {},
   "outputs": [],
   "source": [
    "# List of file names with their respective park names\n",
    "file_park_mapping = {\n",
    "    'Central_Park_Reviews.csv': 'Central Park',\n",
    "    'Eco_Tourism_Park_Reviews.csv': 'Eco Tourism Park',\n",
    "    'Elliot_Park_Reviews.csv': 'Elliot Park',\n",
    "    'Maidan_Reviews.csv': 'Maidan',\n",
    "    'Millenium_Park_Reviews.csv': 'Millenium Park',\n",
    "    'Nature_Park_Reviews.csv': 'Nature Park',\n",
    "    'Nicco_Park_Reviews.csv': 'Nicco Park',\n",
    "    'Princep_Ghat_Park_Reviews.csv': 'Princep Ghat Park',\n",
    "    'Rabindra_Sarobar_Reviews.csv': 'Rabindra Sarobar',\n",
    "    'Science_City_Reviews.csv': 'Science City'\n",
    "}\n",
    "\n",
    "# Initialize an empty DataFrame to store aggregated data\n",
    "all_reviews = pd.DataFrame()\n",
    "\n",
    "# Iterate through each file, add the 'Park' column, and concatenate data\n",
    "for file_name, park_name in file_park_mapping.items():\n",
    "    file_path = os.path.join('C:/Users/aryan/Documents/NLP/Review_Data', file_name)  # Update path_to_your_directory with your actual directory path\n",
    "    df = pd.read_csv(file_path,encoding='latin1')\n",
    "    df['Park'] = park_name\n",
    "    all_reviews = pd.concat([all_reviews, df])\n",
    "\n",
    "# Reset index\n",
    "all_reviews.reset_index(drop=True, inplace=True)\n",
    "\n",
    "# Write aggregated data to a single CSV file\n",
    "all_reviews.to_csv('C:/Users/aryan/Documents/NLP/Review_Data/Reviews.csv', index=False)  # Update path_to_your_directory with your desired directory path"
   ]
  },
  {
   "cell_type": "code",
   "execution_count": 3,
   "id": "91e9ffb9",
   "metadata": {},
   "outputs": [],
   "source": [
    "# Read the CSV file into a pandas DataFrame\n",
    "df = pd.read_csv(\"C:/Users/aryan/Documents/NLP/Review_Data/Reviews.csv\")"
   ]
  },
  {
   "cell_type": "code",
   "execution_count": 4,
   "id": "44c4f98b",
   "metadata": {},
   "outputs": [
    {
     "data": {
      "text/html": [
       "<div>\n",
       "<style scoped>\n",
       "    .dataframe tbody tr th:only-of-type {\n",
       "        vertical-align: middle;\n",
       "    }\n",
       "\n",
       "    .dataframe tbody tr th {\n",
       "        vertical-align: top;\n",
       "    }\n",
       "\n",
       "    .dataframe thead th {\n",
       "        text-align: right;\n",
       "    }\n",
       "</style>\n",
       "<table border=\"1\" class=\"dataframe\">\n",
       "  <thead>\n",
       "    <tr style=\"text-align: right;\">\n",
       "      <th></th>\n",
       "      <th>Date</th>\n",
       "      <th>Ratings</th>\n",
       "      <th>Review</th>\n",
       "      <th>Park</th>\n",
       "    </tr>\n",
       "  </thead>\n",
       "  <tbody>\n",
       "    <tr>\n",
       "      <th>0</th>\n",
       "      <td>Aug 2019</td>\n",
       "      <td>4.0</td>\n",
       "      <td>Best for photo shoots and love the rose garden...</td>\n",
       "      <td>Central Park</td>\n",
       "    </tr>\n",
       "    <tr>\n",
       "      <th>1</th>\n",
       "      <td>Dec 2019</td>\n",
       "      <td>5.0</td>\n",
       "      <td>Another attraction in the Central Park is its ...</td>\n",
       "      <td>Central Park</td>\n",
       "    </tr>\n",
       "    <tr>\n",
       "      <th>2</th>\n",
       "      <td>Apr 2019</td>\n",
       "      <td>4.0</td>\n",
       "      <td>There is enough greenery to bring people and a...</td>\n",
       "      <td>Central Park</td>\n",
       "    </tr>\n",
       "    <tr>\n",
       "      <th>3</th>\n",
       "      <td>Jan 2019</td>\n",
       "      <td>3.0</td>\n",
       "      <td>If you are in Salt Lake City of Kolkata, you m...</td>\n",
       "      <td>Central Park</td>\n",
       "    </tr>\n",
       "    <tr>\n",
       "      <th>4</th>\n",
       "      <td>Feb 2019</td>\n",
       "      <td>3.0</td>\n",
       "      <td>Not a good place to just hang out with friends...</td>\n",
       "      <td>Central Park</td>\n",
       "    </tr>\n",
       "  </tbody>\n",
       "</table>\n",
       "</div>"
      ],
      "text/plain": [
       "        Date  Ratings                                             Review  \\\n",
       "0   Aug 2019      4.0  Best for photo shoots and love the rose garden...   \n",
       "1  Dec 2019       5.0  Another attraction in the Central Park is its ...   \n",
       "2  Apr 2019       4.0  There is enough greenery to bring people and a...   \n",
       "3  Jan 2019       3.0  If you are in Salt Lake City of Kolkata, you m...   \n",
       "4  Feb 2019       3.0  Not a good place to just hang out with friends...   \n",
       "\n",
       "           Park  \n",
       "0  Central Park  \n",
       "1  Central Park  \n",
       "2  Central Park  \n",
       "3  Central Park  \n",
       "4  Central Park  "
      ]
     },
     "execution_count": 4,
     "metadata": {},
     "output_type": "execute_result"
    }
   ],
   "source": [
    "# Display the first few rows of the DataFrame\n",
    "df.head()"
   ]
  },
  {
   "cell_type": "code",
   "execution_count": 5,
   "id": "6d3cb0db",
   "metadata": {},
   "outputs": [
    {
     "name": "stdout",
     "output_type": "stream",
     "text": [
      "<class 'pandas.core.frame.DataFrame'>\n",
      "RangeIndex: 3243 entries, 0 to 3242\n",
      "Data columns (total 4 columns):\n",
      " #   Column   Non-Null Count  Dtype  \n",
      "---  ------   --------------  -----  \n",
      " 0   Date     3243 non-null   object \n",
      " 1   Ratings  3243 non-null   float64\n",
      " 2   Review   3243 non-null   object \n",
      " 3   Park     3243 non-null   object \n",
      "dtypes: float64(1), object(3)\n",
      "memory usage: 101.5+ KB\n"
     ]
    }
   ],
   "source": [
    "# Print information about the DataFrame\n",
    "df.info()"
   ]
  },
  {
   "cell_type": "code",
   "execution_count": 6,
   "id": "3adfdfd0",
   "metadata": {},
   "outputs": [
    {
     "data": {
      "text/html": [
       "<div>\n",
       "<style scoped>\n",
       "    .dataframe tbody tr th:only-of-type {\n",
       "        vertical-align: middle;\n",
       "    }\n",
       "\n",
       "    .dataframe tbody tr th {\n",
       "        vertical-align: top;\n",
       "    }\n",
       "\n",
       "    .dataframe thead th {\n",
       "        text-align: right;\n",
       "    }\n",
       "</style>\n",
       "<table border=\"1\" class=\"dataframe\">\n",
       "  <thead>\n",
       "    <tr style=\"text-align: right;\">\n",
       "      <th></th>\n",
       "      <th>Ratings</th>\n",
       "    </tr>\n",
       "  </thead>\n",
       "  <tbody>\n",
       "    <tr>\n",
       "      <th>count</th>\n",
       "      <td>3243.000000</td>\n",
       "    </tr>\n",
       "    <tr>\n",
       "      <th>mean</th>\n",
       "      <td>4.469935</td>\n",
       "    </tr>\n",
       "    <tr>\n",
       "      <th>std</th>\n",
       "      <td>0.831189</td>\n",
       "    </tr>\n",
       "    <tr>\n",
       "      <th>min</th>\n",
       "      <td>1.000000</td>\n",
       "    </tr>\n",
       "    <tr>\n",
       "      <th>25%</th>\n",
       "      <td>4.000000</td>\n",
       "    </tr>\n",
       "    <tr>\n",
       "      <th>50%</th>\n",
       "      <td>5.000000</td>\n",
       "    </tr>\n",
       "    <tr>\n",
       "      <th>75%</th>\n",
       "      <td>5.000000</td>\n",
       "    </tr>\n",
       "    <tr>\n",
       "      <th>max</th>\n",
       "      <td>5.000000</td>\n",
       "    </tr>\n",
       "  </tbody>\n",
       "</table>\n",
       "</div>"
      ],
      "text/plain": [
       "           Ratings\n",
       "count  3243.000000\n",
       "mean      4.469935\n",
       "std       0.831189\n",
       "min       1.000000\n",
       "25%       4.000000\n",
       "50%       5.000000\n",
       "75%       5.000000\n",
       "max       5.000000"
      ]
     },
     "execution_count": 6,
     "metadata": {},
     "output_type": "execute_result"
    }
   ],
   "source": [
    "# Generate descriptive statistics of the DataFrame\n",
    "df.describe()"
   ]
  },
  {
   "cell_type": "code",
   "execution_count": 7,
   "id": "80ffe768",
   "metadata": {},
   "outputs": [
    {
     "name": "stdout",
     "output_type": "stream",
     "text": [
      "Missing values in each column:\n",
      "Date       0\n",
      "Ratings    0\n",
      "Review     0\n",
      "Park       0\n",
      "dtype: int64\n"
     ]
    }
   ],
   "source": [
    "# Check for missing values in each column and calculate the sum\n",
    "missing_values = all_reviews.isna().sum()\n",
    "\n",
    "print(\"Missing values in each column:\")\n",
    "print(missing_values)"
   ]
  },
  {
   "cell_type": "code",
   "execution_count": 8,
   "id": "86c0fd9b",
   "metadata": {},
   "outputs": [
    {
     "data": {
      "text/plain": [
       "(3243, 4)"
      ]
     },
     "execution_count": 8,
     "metadata": {},
     "output_type": "execute_result"
    }
   ],
   "source": [
    "# Print the shape of the DataFrame\n",
    "df.shape"
   ]
  },
  {
   "cell_type": "code",
   "execution_count": 9,
   "id": "1a5e1f68",
   "metadata": {},
   "outputs": [
    {
     "data": {
      "text/plain": [
       "array(['best photo shoots love rose gardenthe park surrounded lush green trees flowers small pond give attraction parkthere number benches sitting along small food canteen sells various fast foodthe attraction park well shaped chinese pagoda shadeentry fee inr 40 camera fee inr 30 big car parking area',\n",
       "       'another attraction central park beautiful butterfly garden home several species colorful butterflies',\n",
       "       'enough greenery bring people lot couplesnice place photos maintained well',\n",
       "       ...,\n",
       "       'mood picnic kids science city place kids knowledge scientific facts time machine ride enjoy science city also got one best auditoriums kolkata nothing else soak sun enjoy',\n",
       "       'science city one favourite places kolkatait basically science technology museum difference science museums science city science city makes interesting number games experiments performed makes science interesting subject borethus recomend people age groups especially childrento visit science city explore world science technology better way',\n",
       "       'kolkata like two places mostone nicco park another one science cityhere people different ages enjoy whether child aged personthere dinosaur parktime machine one space theater love thatif want spend good time family friends brothers sisters go enjoy day'],\n",
       "      dtype='<U1089')"
      ]
     },
     "execution_count": 9,
     "metadata": {},
     "output_type": "execute_result"
    }
   ],
   "source": [
    "#Preprocessing\n",
    "\n",
    "stop_words = nltk.corpus.stopwords.words('english')\n",
    "\n",
    "def normalize_document(doc):\n",
    "    # lower case and remove special characters\\whitespaces\n",
    "    doc = re.sub(r'[^a-zA-Z0-9\\s]', '', doc) #remove any characters that are not alphanumeric or whitespace\n",
    "    doc = doc.lower() #lowercase\n",
    "    doc = doc.strip() #Removes leading and trailing whitespaces\n",
    "    tokens = nltk.word_tokenize(doc) #Tokenizes the document into individual words\n",
    "    filtered_tokens = [token for token in tokens if token not in stop_words] #Filters out stopwords\n",
    "    doc = ' '.join(filtered_tokens) #Reconstructs the document from the filtered tokens by joining them back into a single string separated by spaces\n",
    "    return doc\n",
    "\n",
    "normalize_corpus = np.vectorize(normalize_document) #Vectorizes the normalize_document function\n",
    "\n",
    "norm_corpus = normalize_corpus(list(df['Review'])) # applying function to dataframe, producing a normalized corpus of documents\n",
    "norm_corpus"
   ]
  },
  {
   "cell_type": "code",
   "execution_count": 10,
   "id": "5373d8de",
   "metadata": {},
   "outputs": [
    {
     "data": {
      "text/plain": [
       "(3243, 828)"
      ]
     },
     "execution_count": 10,
     "metadata": {},
     "output_type": "execute_result"
    }
   ],
   "source": [
    "#convert a collection of text documents (norm_corpus) into a matrix of token counts\n",
    "\n",
    "cv = CountVectorizer(ngram_range=(1, 2), min_df=20, max_df=0.8) #both single words and pairs of consecutive words. Tokens that occur in fewer than 20 documents will be ignored. Tokens that occur in more than 80% of the documents will be ignored.\n",
    "cv_matrix = cv.fit_transform(norm_corpus) #transforms the corpus into a document-term matrix. The value at the intersection of a row and column represents the count of how many times that word or n-gram appears in the corresponding document.\n",
    "cv_matrix.shape #(n_documents, n_features). n_documents represents the number of documents in the corpus, and n_features represents the number of unique words and n-grams in the vocabulary."
   ]
  },
  {
   "cell_type": "markdown",
   "id": "a1f923d6",
   "metadata": {},
   "source": [
    "# Clustering"
   ]
  },
  {
   "cell_type": "code",
   "execution_count": 11,
   "id": "24490908",
   "metadata": {},
   "outputs": [],
   "source": [
    "# Initialize an empty list to store within-cluster sum of squares\n",
    "\n",
    "\n",
    "# Iterate through different numbers of clusters\n",
    "css = [] \n",
    "for i in range(2, 8): #iteration\n",
    "    kmeans = KMeans(n_clusters=i, max_iter=100, n_init=10, random_state=42).fit(cv_matrix) #k-means clustering model\n",
    "    css.append(kmeans.inertia_)\n",
    "#After fitting the model, it calculates the within-cluster sum of squares using the inertia_ attribute of the k-means model and appends it to the css list. The inertia represents the sum of squared distances of samples to their closest cluster center and is used as a measure of how tightly the clusters are packed."
   ]
  },
  {
   "cell_type": "code",
   "execution_count": 12,
   "id": "fdbca339",
   "metadata": {},
   "outputs": [
    {
     "data": {
      "text/plain": [
       "[74035.32194534526,\n",
       " 72248.34821869101,\n",
       " 71056.41211985181,\n",
       " 70428.19462987833,\n",
       " 69720.91746169575,\n",
       " 69276.40252597116]"
      ]
     },
     "execution_count": 12,
     "metadata": {},
     "output_type": "execute_result"
    }
   ],
   "source": [
    "css #within-cluster sum of squares"
   ]
  },
  {
   "cell_type": "code",
   "execution_count": 13,
   "id": "b5e6b515",
   "metadata": {},
   "outputs": [
    {
     "data": {
      "image/png": "[encoded data removed]",
      "text/plain": [
       "<Figure size 640x480 with 1 Axes>"
      ]
     },
     "metadata": {},
     "output_type": "display_data"
    }
   ],
   "source": [
    "#plot showing the within-cluster sum of squares (CSS) for different numbers of clusters\n",
    "import matplotlib.pyplot as plt\n",
    "plt.plot(range(2, 8), css)\n",
    "plt.xlabel('Number of clusters')\n",
    "plt.ylabel('CSS') \n",
    "plt.show()"
   ]
  },
  {
   "cell_type": "code",
   "execution_count": 14,
   "id": "3a831dae",
   "metadata": {},
   "outputs": [
    {
     "name": "stdout",
     "output_type": "stream",
     "text": [
      "Central Park: Cluster 3\n",
      "Eco Tourism Park: Cluster 2\n",
      "Elliot Park: Cluster 2\n",
      "Maidan: Cluster 2\n",
      "Millenium Park: Cluster 2\n",
      "Nature Park: Cluster 3\n",
      "Nicco Park: Cluster 2\n",
      "Princep Ghat Park: Cluster 1\n",
      "Rabindra Sarobar: Cluster 2\n",
      "Science City: Cluster 2\n"
     ]
    }
   ],
   "source": [
    "num_clusters = 3  # Number of clusters\n",
    "kmeans = KMeans(n_clusters=num_clusters, max_iter=300, n_init=20, random_state=42)\n",
    "kmeans.fit(cv_matrix)\n",
    "\n",
    "# Assigning Parks to Clusters\n",
    "park_cluster_mapping = {}  # Dictionary to store park to cluster mapping\n",
    "\n",
    "for park in df['Park'].unique():\n",
    "    park_reviews = df[df['Park'] == park]['Review']\n",
    "    park_reviews_vector = cv.transform(park_reviews)\n",
    "    park_cluster = kmeans.predict(park_reviews_vector)[0]\n",
    "    park_cluster_mapping[park] = park_cluster\n",
    "\n",
    "# Displaying Park to Cluster Mapping\n",
    "for park, cluster in park_cluster_mapping.items():\n",
    "    print(f\"{park}: Cluster {cluster + 1}\")"
   ]
  },
  {
   "cell_type": "code",
   "execution_count": 15,
   "id": "a49a3a12",
   "metadata": {},
   "outputs": [
    {
     "name": "stdout",
     "output_type": "stream",
     "text": [
      "CLUSTER #1\n",
      "Key Features: ['place', 'visit', 'kolkata', 'good', 'time', 'also', 'nice', 'one', 'science', 'city', 'family', 'enjoy', 'park', 'well', 'evening']\n",
      "Parks in Cluster: ['Princep Ghat Park']\n",
      "--------------------------------------------------------------------------------\n",
      "CLUSTER #2\n",
      "Key Features: ['place', 'good', 'visit', 'park', 'kolkata', 'one', 'time', 'science', 'city', 'also', 'river', 'nice', 'evening', 'enjoy', 'well']\n",
      "Parks in Cluster: ['Eco Tourism Park', 'Elliot Park', 'Maidan', 'Millenium Park', 'Nicco Park', 'Rabindra Sarobar', 'Science City']\n",
      "--------------------------------------------------------------------------------\n",
      "CLUSTER #3\n",
      "Key Features: ['park', 'place', 'also', 'kolkata', 'one', 'rides', 'visit', 'good', 'eco', 'time', 'water', 'lake', 'well', 'many', 'family']\n",
      "Parks in Cluster: ['Central Park', 'Nature Park']\n",
      "--------------------------------------------------------------------------------\n"
     ]
    }
   ],
   "source": [
    "feature_names = cv.get_feature_names_out()  # Retrieves the feature names from CountVectorizer object cv\n",
    "topn_features = 15  # Number of top features to be considered for each cluster\n",
    "ordered_centroids = kmeans.cluster_centers_.argsort()[:, ::-1]  # Orders the centroids by their values in descending order. \n",
    "\n",
    "# Get key features for each cluster\n",
    "for cluster_num in range(num_clusters):\n",
    "    key_features = [feature_names[index]  # Extract the top topn_features features for the current cluster\n",
    "                    for index in ordered_centroids[cluster_num, :topn_features]]  # Retrieve the feature names based on the indices of the most important features for each cluster\n",
    "    parks_in_cluster = [park for park, cluster in park_cluster_mapping.items() if cluster == cluster_num]  # Retrieve parks belonging to the current cluster\n",
    "    print(f'CLUSTER #{cluster_num + 1}')  # Print the cluster number\n",
    "    print('Key Features:', key_features)  # Print the key features for the cluster\n",
    "    print('Parks in Cluster:', parks_in_cluster)  # Print parks belonging to the cluster\n",
    "    print('-' * 80)  # Print a separator line to visually distinguish between clusters"
   ]
  },
  {
   "cell_type": "markdown",
   "id": "eaa9ab9d",
   "metadata": {},
   "source": [
    "Cluster 1: Family and Leisure\n",
    "\n",
    "Key Features: place, visit, good, time, nice, family, enjoy, park, evening\n",
    "Parks in Cluster: Princep Ghat Park\n",
    "Description: This cluster seems to focus on parks suitable for family outings and leisure activities. It emphasizes features such as enjoyable visits, good times, and pleasant evenings.\n",
    "\n",
    "Cluster 2: City Parks and Attractions Cluster\n",
    "\n",
    "Key Features: place, good, visit, park, science, city, river, nice, evening\n",
    "Parks in Cluster: Eco Tourism Park, Elliot Park, Maidan, Millenium Park, Nicco Park, Rabindra Sarobar, Science City\n",
    "Description: This cluster comprises parks located within or near the city (Kolkata) and offers diverse attractions such as parks, rivers, and science-related activities.\n",
    "\n",
    "Cluster 3: Natural and Eco-Friendly Cluster:\n",
    "\n",
    "Key Features: park, place, eco, water, lake, rides, family\n",
    "Parks in Cluster: Central Park, Nature Park\n",
    "Description: This cluster represents parks with a focus on natural elements and eco-friendly attractions. It highlights features such as eco-friendly initiatives, water bodies, and family-oriented activities."
   ]
  },
  {
   "cell_type": "code",
   "execution_count": 16,
   "id": "e8434f72",
   "metadata": {},
   "outputs": [],
   "source": [
    "# Feature Engineering\n",
    "X = df['Review']\n",
    "y = df['Ratings'].apply(lambda x: 1 if x >= 4 else 0)  # Convert ratings to binary labels\n",
    "\n",
    "# Split data into training and testing sets\n",
    "X_train, X_test, y_train, y_test = train_test_split(X, y, test_size=0.2, stratify=y, random_state=42) #stratified sampling\n",
    "\n",
    "# Vectorize text data\n",
    "vectorizer = CountVectorizer()\n",
    "X_train_vectorized = vectorizer.fit_transform(X_train)\n",
    "X_test_vectorized = vectorizer.transform(X_test)"
   ]
  },
  {
   "cell_type": "code",
   "execution_count": 17,
   "id": "71da4d28",
   "metadata": {},
   "outputs": [
    {
     "name": "stdout",
     "output_type": "stream",
     "text": [
      "Original Class Distribution:\n",
      "1    0.927845\n",
      "0    0.072155\n",
      "Name: Ratings, dtype: float64\n"
     ]
    }
   ],
   "source": [
    "# Check the class distribution in the original dataset\n",
    "original_class_distribution = y.value_counts(normalize=True)\n",
    "print(\"Original Class Distribution:\")\n",
    "print(original_class_distribution)"
   ]
  },
  {
   "cell_type": "code",
   "execution_count": 18,
   "id": "1cbb5ea5",
   "metadata": {},
   "outputs": [
    {
     "name": "stdout",
     "output_type": "stream",
     "text": [
      "\n",
      "Training Set Class Distribution:\n",
      "1    0.927911\n",
      "0    0.072089\n",
      "Name: Ratings, dtype: float64\n"
     ]
    }
   ],
   "source": [
    "# Check the class distribution in the training set\n",
    "train_class_distribution = y_train.value_counts(normalize=True)\n",
    "print(\"\\nTraining Set Class Distribution:\")\n",
    "print(train_class_distribution)"
   ]
  },
  {
   "cell_type": "code",
   "execution_count": 19,
   "id": "26e67144",
   "metadata": {},
   "outputs": [
    {
     "name": "stdout",
     "output_type": "stream",
     "text": [
      "\n",
      "Testing Set Class Distribution:\n",
      "1    0.927581\n",
      "0    0.072419\n",
      "Name: Ratings, dtype: float64\n"
     ]
    }
   ],
   "source": [
    "# Check the class distribution in the testing set\n",
    "test_class_distribution = y_test.value_counts(normalize=True)\n",
    "print(\"\\nTesting Set Class Distribution:\")\n",
    "print(test_class_distribution)"
   ]
  },
  {
   "cell_type": "markdown",
   "id": "2161a24f",
   "metadata": {},
   "source": [
    "# Classification"
   ]
  },
  {
   "cell_type": "code",
   "execution_count": 20,
   "id": "92daa4ab",
   "metadata": {},
   "outputs": [
    {
     "name": "stdout",
     "output_type": "stream",
     "text": [
      "Accuracy: 0.9137134052388289\n",
      "Precision: 0.9305993690851735\n",
      "Recall: 0.9800664451827242\n",
      "F1-score: 0.9546925566343042\n",
      "ROC-AUC: 0.5219481162083834\n"
     ]
    },
    {
     "name": "stderr",
     "output_type": "stream",
     "text": [
      "C:\\Users\\aryan\\anaconda3\\lib\\site-packages\\sklearn\\linear_model\\_logistic.py:460: ConvergenceWarning: lbfgs failed to converge (status=1):\n",
      "STOP: TOTAL NO. of ITERATIONS REACHED LIMIT.\n",
      "\n",
      "Increase the number of iterations (max_iter) or scale the data as shown in:\n",
      "    https://scikit-learn.org/stable/modules/preprocessing.html\n",
      "Please also refer to the documentation for alternative solver options:\n",
      "    https://scikit-learn.org/stable/modules/linear_model.html#logistic-regression\n",
      "  n_iter_i = _check_optimize_result(\n"
     ]
    }
   ],
   "source": [
    "# Initialize Logistic Regression with TF-IDF vectorized data\n",
    "\n",
    "# Train classification model\n",
    "model = LogisticRegression()\n",
    "model.fit(X_train_vectorized, y_train)\n",
    "\n",
    "# Make predictions\n",
    "y_pred = model.predict(X_test_vectorized)\n",
    "\n",
    "# Evaluate model\n",
    "accuracy = accuracy_score(y_test, y_pred)\n",
    "precision = precision_score(y_test, y_pred)\n",
    "recall = recall_score(y_test, y_pred)\n",
    "f1 = f1_score(y_test, y_pred)\n",
    "roc_auc = roc_auc_score(y_test, y_pred)\n",
    "\n",
    "print(\"Accuracy:\", accuracy)\n",
    "print(\"Precision:\", precision)\n",
    "print(\"Recall:\", recall)\n",
    "print(\"F1-score:\", f1)\n",
    "print(\"ROC-AUC:\", roc_auc)"
   ]
  },
  {
   "cell_type": "code",
   "execution_count": 21,
   "id": "46e0f516",
   "metadata": {
    "scrolled": true
   },
   "outputs": [
    {
     "name": "stdout",
     "output_type": "stream",
     "text": [
      "              precision    recall  f1-score   support\n",
      "\n",
      "           0       0.00      0.00      0.00        47\n",
      "           1       0.93      1.00      0.96       602\n",
      "\n",
      "    accuracy                           0.93       649\n",
      "   macro avg       0.46      0.50      0.48       649\n",
      "weighted avg       0.86      0.93      0.89       649\n",
      "\n",
      "Confusion Matrix: [[  0  47]\n",
      " [  0 602]]\n",
      "AUC: 0.5602777974128791\n"
     ]
    },
    {
     "name": "stderr",
     "output_type": "stream",
     "text": [
      "C:\\Users\\aryan\\anaconda3\\lib\\site-packages\\sklearn\\metrics\\_classification.py:1469: UndefinedMetricWarning: Precision and F-score are ill-defined and being set to 0.0 in labels with no predicted samples. Use `zero_division` parameter to control this behavior.\n",
      "  _warn_prf(average, modifier, msg_start, len(result))\n",
      "C:\\Users\\aryan\\anaconda3\\lib\\site-packages\\sklearn\\metrics\\_classification.py:1469: UndefinedMetricWarning: Precision and F-score are ill-defined and being set to 0.0 in labels with no predicted samples. Use `zero_division` parameter to control this behavior.\n",
      "  _warn_prf(average, modifier, msg_start, len(result))\n",
      "C:\\Users\\aryan\\anaconda3\\lib\\site-packages\\sklearn\\metrics\\_classification.py:1469: UndefinedMetricWarning: Precision and F-score are ill-defined and being set to 0.0 in labels with no predicted samples. Use `zero_division` parameter to control this behavior.\n",
      "  _warn_prf(average, modifier, msg_start, len(result))\n"
     ]
    }
   ],
   "source": [
    "# Initialize Multinomial Naive Bayes classifier with TF-IDF vectorized data\n",
    "nb_tfidf = MultinomialNB()\n",
    "nb_tfidf.fit(X_train_vectorized, y_train)\n",
    "\n",
    "# Make predictions\n",
    "y_predict = nb_tfidf.predict(X_test_vectorized)\n",
    "y_prob = nb_tfidf.predict_proba(X_test_vectorized)[:, 1]\n",
    "\n",
    "# Evaluate model\n",
    "print(classification_report(y_test, y_predict))\n",
    "print('Confusion Matrix:', confusion_matrix(y_test, y_predict))\n",
    "\n",
    "fpr, tpr, thresholds = roc_curve(y_test, y_prob)\n",
    "roc_auc = auc(fpr, tpr)\n",
    "print('AUC:', roc_auc)"
   ]
  },
  {
   "cell_type": "markdown",
   "id": "c5909337",
   "metadata": {},
   "source": [
    "Considering the nature of the problem and the importance of correctly identifying positive sentiment, precision and recall might be more critical evaluation metrics. However, it's also important to consider the balance between precision and recall, which is captured by the F1-score. Therefore, a combination of precision, recall, and F1-score would provide a comprehensive assessment of the model's performance. Additionally, ROC-AUC could also provide valuable insights into the model's ability to discriminate between positive and negative sentiment. Ultimately, the choice of evaluation metric should align with the project's objectives and the relative importance of minimizing false positives versus false negatives.\n",
    "\n",
    "The most suitable evaluation metric for this classification model would be F1-score.\n",
    "\n",
    "Justification for choosing F1-score:\n",
    "\n",
    "F1-score: The F1-score provides a balance between precision and recall, making it suitable for imbalanced datasets. It considers both false positives and false negatives, making it a robust metric for binary classification tasks like sentiment analysis.\n",
    "\n",
    "Importance of balanced performance: In sentiment analysis, it's equally important to correctly identify positive sentiment (high recall) while minimizing misclassification errors (high precision). The F1-score strikes a balance between these two objectives, providing a comprehensive measure of the model's performance.\n",
    "\n",
    "Robustness to class imbalance: Since sentiment analysis datasets often have imbalanced classes (e.g., more negative reviews than positive), the F1-score accounts for the uneven distribution of classes and evaluates the model's performance effectively.\n",
    "\n",
    "Interpretability: The F1-score is easy to interpret, as it represents the harmonic mean of precision and recall. It provides a single value that summarizes the model's ability to classify both positive and negative sentiment.\n",
    "\n",
    "Therefore, for the classification models trained on TF-IDF vectorized data in this sentiment analysis task, the F1-score would be the preferred evaluation metric to assess the overall performance of the models accurately."
   ]
  },
  {
   "cell_type": "markdown",
   "id": "7f52db79",
   "metadata": {},
   "source": [
    "# Topic Modelling"
   ]
  },
  {
   "cell_type": "markdown",
   "id": "dd22b8fa",
   "metadata": {},
   "source": [
    "No, the fact that a person gives a lower rating does not necessarily mean that they commented something \"wrong\" about the park. Ratings are subjective and can be influenced by various factors such as personal preferences, expectations, experiences, and even mood at the time of the visit. \n",
    "\n",
    "A lower rating might indicate that the person had a less enjoyable experience compared to someone who gave a higher rating, but it doesn't necessarily mean their comments are inaccurate or \"wrong\". It's essential to consider the context of the review and the reasons behind the rating given by the individual."
   ]
  },
  {
   "cell_type": "code",
   "execution_count": 22,
   "id": "69fc5d6e",
   "metadata": {},
   "outputs": [],
   "source": [
    "# Define a function to categorize ratings as negative or positive\n",
    "def categorize_rating(rating):\n",
    "    if rating <= 3:\n",
    "        return 'negative'\n",
    "    else:\n",
    "        return 'positive'\n",
    "\n",
    "# Apply the function to create a new column 'Sentiment'\n",
    "df['Sentiment'] = df['Ratings'].apply(categorize_rating)"
   ]
  },
  {
   "cell_type": "code",
   "execution_count": 23,
   "id": "3e7a9e87",
   "metadata": {},
   "outputs": [
    {
     "data": {
      "text/html": [
       "<div>\n",
       "<style scoped>\n",
       "    .dataframe tbody tr th:only-of-type {\n",
       "        vertical-align: middle;\n",
       "    }\n",
       "\n",
       "    .dataframe tbody tr th {\n",
       "        vertical-align: top;\n",
       "    }\n",
       "\n",
       "    .dataframe thead th {\n",
       "        text-align: right;\n",
       "    }\n",
       "</style>\n",
       "<table border=\"1\" class=\"dataframe\">\n",
       "  <thead>\n",
       "    <tr style=\"text-align: right;\">\n",
       "      <th></th>\n",
       "      <th>Date</th>\n",
       "      <th>Ratings</th>\n",
       "      <th>Review</th>\n",
       "      <th>Park</th>\n",
       "      <th>Sentiment</th>\n",
       "    </tr>\n",
       "  </thead>\n",
       "  <tbody>\n",
       "    <tr>\n",
       "      <th>0</th>\n",
       "      <td>Aug 2019</td>\n",
       "      <td>4.0</td>\n",
       "      <td>Best for photo shoots and love the rose garden...</td>\n",
       "      <td>Central Park</td>\n",
       "      <td>positive</td>\n",
       "    </tr>\n",
       "    <tr>\n",
       "      <th>1</th>\n",
       "      <td>Dec 2019</td>\n",
       "      <td>5.0</td>\n",
       "      <td>Another attraction in the Central Park is its ...</td>\n",
       "      <td>Central Park</td>\n",
       "      <td>positive</td>\n",
       "    </tr>\n",
       "    <tr>\n",
       "      <th>2</th>\n",
       "      <td>Apr 2019</td>\n",
       "      <td>4.0</td>\n",
       "      <td>There is enough greenery to bring people and a...</td>\n",
       "      <td>Central Park</td>\n",
       "      <td>positive</td>\n",
       "    </tr>\n",
       "    <tr>\n",
       "      <th>3</th>\n",
       "      <td>Jan 2019</td>\n",
       "      <td>3.0</td>\n",
       "      <td>If you are in Salt Lake City of Kolkata, you m...</td>\n",
       "      <td>Central Park</td>\n",
       "      <td>negative</td>\n",
       "    </tr>\n",
       "    <tr>\n",
       "      <th>4</th>\n",
       "      <td>Feb 2019</td>\n",
       "      <td>3.0</td>\n",
       "      <td>Not a good place to just hang out with friends...</td>\n",
       "      <td>Central Park</td>\n",
       "      <td>negative</td>\n",
       "    </tr>\n",
       "    <tr>\n",
       "      <th>...</th>\n",
       "      <td>...</td>\n",
       "      <td>...</td>\n",
       "      <td>...</td>\n",
       "      <td>...</td>\n",
       "      <td>...</td>\n",
       "    </tr>\n",
       "    <tr>\n",
       "      <th>3238</th>\n",
       "      <td>Jul 2011</td>\n",
       "      <td>4.0</td>\n",
       "      <td>Really Great Park Having Full Of Technological...</td>\n",
       "      <td>Science City</td>\n",
       "      <td>positive</td>\n",
       "    </tr>\n",
       "    <tr>\n",
       "      <th>3239</th>\n",
       "      <td>Nov 2011</td>\n",
       "      <td>5.0</td>\n",
       "      <td>A friend and I spent a morning here thanks to ...</td>\n",
       "      <td>Science City</td>\n",
       "      <td>positive</td>\n",
       "    </tr>\n",
       "    <tr>\n",
       "      <th>3240</th>\n",
       "      <td>Aug 2011</td>\n",
       "      <td>4.0</td>\n",
       "      <td>If you are in the mood for a picnic with your ...</td>\n",
       "      <td>Science City</td>\n",
       "      <td>positive</td>\n",
       "    </tr>\n",
       "    <tr>\n",
       "      <th>3241</th>\n",
       "      <td>Jan 2011</td>\n",
       "      <td>5.0</td>\n",
       "      <td>Science city is one of my favourite places in ...</td>\n",
       "      <td>Science City</td>\n",
       "      <td>positive</td>\n",
       "    </tr>\n",
       "    <tr>\n",
       "      <th>3242</th>\n",
       "      <td>Nov 2010</td>\n",
       "      <td>4.0</td>\n",
       "      <td>In Kolkata I like two places most.One is Nicco...</td>\n",
       "      <td>Science City</td>\n",
       "      <td>positive</td>\n",
       "    </tr>\n",
       "  </tbody>\n",
       "</table>\n",
       "<p>3243 rows × 5 columns</p>\n",
       "</div>"
      ],
      "text/plain": [
       "           Date  Ratings                                             Review  \\\n",
       "0      Aug 2019      4.0  Best for photo shoots and love the rose garden...   \n",
       "1     Dec 2019       5.0  Another attraction in the Central Park is its ...   \n",
       "2     Apr 2019       4.0  There is enough greenery to bring people and a...   \n",
       "3     Jan 2019       3.0  If you are in Salt Lake City of Kolkata, you m...   \n",
       "4     Feb 2019       3.0  Not a good place to just hang out with friends...   \n",
       "...         ...      ...                                                ...   \n",
       "3238   Jul 2011      4.0  Really Great Park Having Full Of Technological...   \n",
       "3239  Nov 2011       5.0  A friend and I spent a morning here thanks to ...   \n",
       "3240  Aug 2011       4.0  If you are in the mood for a picnic with your ...   \n",
       "3241   Jan 2011      5.0  Science city is one of my favourite places in ...   \n",
       "3242   Nov 2010      4.0  In Kolkata I like two places most.One is Nicco...   \n",
       "\n",
       "              Park Sentiment  \n",
       "0     Central Park  positive  \n",
       "1     Central Park  positive  \n",
       "2     Central Park  positive  \n",
       "3     Central Park  negative  \n",
       "4     Central Park  negative  \n",
       "...            ...       ...  \n",
       "3238  Science City  positive  \n",
       "3239  Science City  positive  \n",
       "3240  Science City  positive  \n",
       "3241  Science City  positive  \n",
       "3242  Science City  positive  \n",
       "\n",
       "[3243 rows x 5 columns]"
      ]
     },
     "execution_count": 23,
     "metadata": {},
     "output_type": "execute_result"
    }
   ],
   "source": [
    "df"
   ]
  },
  {
   "cell_type": "code",
   "execution_count": 24,
   "id": "40a1025e",
   "metadata": {},
   "outputs": [],
   "source": [
    "# Filter the DataFrame to select only reviews with 'positive' sentiment\n",
    "positive_reviews_df = df[df['Sentiment'] == 'positive'][['Review']]"
   ]
  },
  {
   "cell_type": "code",
   "execution_count": 25,
   "id": "7994dbb8",
   "metadata": {},
   "outputs": [
    {
     "data": {
      "text/html": [
       "<div>\n",
       "<style scoped>\n",
       "    .dataframe tbody tr th:only-of-type {\n",
       "        vertical-align: middle;\n",
       "    }\n",
       "\n",
       "    .dataframe tbody tr th {\n",
       "        vertical-align: top;\n",
       "    }\n",
       "\n",
       "    .dataframe thead th {\n",
       "        text-align: right;\n",
       "    }\n",
       "</style>\n",
       "<table border=\"1\" class=\"dataframe\">\n",
       "  <thead>\n",
       "    <tr style=\"text-align: right;\">\n",
       "      <th></th>\n",
       "      <th>Review</th>\n",
       "    </tr>\n",
       "  </thead>\n",
       "  <tbody>\n",
       "    <tr>\n",
       "      <th>0</th>\n",
       "      <td>Best for photo shoots and love the rose garden...</td>\n",
       "    </tr>\n",
       "    <tr>\n",
       "      <th>1</th>\n",
       "      <td>Another attraction in the Central Park is its ...</td>\n",
       "    </tr>\n",
       "    <tr>\n",
       "      <th>2</th>\n",
       "      <td>There is enough greenery to bring people and a...</td>\n",
       "    </tr>\n",
       "    <tr>\n",
       "      <th>5</th>\n",
       "      <td>This is a very good place to enjoy some times ...</td>\n",
       "    </tr>\n",
       "    <tr>\n",
       "      <th>8</th>\n",
       "      <td>Waking here in the evening time was good for h...</td>\n",
       "    </tr>\n",
       "    <tr>\n",
       "      <th>...</th>\n",
       "      <td>...</td>\n",
       "    </tr>\n",
       "    <tr>\n",
       "      <th>3238</th>\n",
       "      <td>Really Great Park Having Full Of Technological...</td>\n",
       "    </tr>\n",
       "    <tr>\n",
       "      <th>3239</th>\n",
       "      <td>A friend and I spent a morning here thanks to ...</td>\n",
       "    </tr>\n",
       "    <tr>\n",
       "      <th>3240</th>\n",
       "      <td>If you are in the mood for a picnic with your ...</td>\n",
       "    </tr>\n",
       "    <tr>\n",
       "      <th>3241</th>\n",
       "      <td>Science city is one of my favourite places in ...</td>\n",
       "    </tr>\n",
       "    <tr>\n",
       "      <th>3242</th>\n",
       "      <td>In Kolkata I like two places most.One is Nicco...</td>\n",
       "    </tr>\n",
       "  </tbody>\n",
       "</table>\n",
       "<p>3009 rows × 1 columns</p>\n",
       "</div>"
      ],
      "text/plain": [
       "                                                 Review\n",
       "0     Best for photo shoots and love the rose garden...\n",
       "1     Another attraction in the Central Park is its ...\n",
       "2     There is enough greenery to bring people and a...\n",
       "5     This is a very good place to enjoy some times ...\n",
       "8     Waking here in the evening time was good for h...\n",
       "...                                                 ...\n",
       "3238  Really Great Park Having Full Of Technological...\n",
       "3239  A friend and I spent a morning here thanks to ...\n",
       "3240  If you are in the mood for a picnic with your ...\n",
       "3241  Science city is one of my favourite places in ...\n",
       "3242  In Kolkata I like two places most.One is Nicco...\n",
       "\n",
       "[3009 rows x 1 columns]"
      ]
     },
     "execution_count": 25,
     "metadata": {},
     "output_type": "execute_result"
    }
   ],
   "source": [
    "# Display the new DataFrame\n",
    "positive_reviews_df"
   ]
  },
  {
   "cell_type": "code",
   "execution_count": 26,
   "id": "00494082",
   "metadata": {},
   "outputs": [],
   "source": [
    "# Filter the DataFrame to select only reviews with 'positive' sentiment\n",
    "negative_reviews_df = df[df['Sentiment'] == 'negative'][['Review']]"
   ]
  },
  {
   "cell_type": "code",
   "execution_count": 27,
   "id": "0e1b3174",
   "metadata": {},
   "outputs": [
    {
     "data": {
      "text/html": [
       "<div>\n",
       "<style scoped>\n",
       "    .dataframe tbody tr th:only-of-type {\n",
       "        vertical-align: middle;\n",
       "    }\n",
       "\n",
       "    .dataframe tbody tr th {\n",
       "        vertical-align: top;\n",
       "    }\n",
       "\n",
       "    .dataframe thead th {\n",
       "        text-align: right;\n",
       "    }\n",
       "</style>\n",
       "<table border=\"1\" class=\"dataframe\">\n",
       "  <thead>\n",
       "    <tr style=\"text-align: right;\">\n",
       "      <th></th>\n",
       "      <th>Review</th>\n",
       "    </tr>\n",
       "  </thead>\n",
       "  <tbody>\n",
       "    <tr>\n",
       "      <th>3</th>\n",
       "      <td>If you are in Salt Lake City of Kolkata, you m...</td>\n",
       "    </tr>\n",
       "    <tr>\n",
       "      <th>4</th>\n",
       "      <td>Not a good place to just hang out with friends...</td>\n",
       "    </tr>\n",
       "    <tr>\n",
       "      <th>6</th>\n",
       "      <td>Greenery in the city of joy...a wonderful plac...</td>\n",
       "    </tr>\n",
       "    <tr>\n",
       "      <th>7</th>\n",
       "      <td>You can really enjoy a walkOf around 3 KM insi...</td>\n",
       "    </tr>\n",
       "    <tr>\n",
       "      <th>13</th>\n",
       "      <td>A bit of green amidst the buildings of salt la...</td>\n",
       "    </tr>\n",
       "    <tr>\n",
       "      <th>...</th>\n",
       "      <td>...</td>\n",
       "    </tr>\n",
       "    <tr>\n",
       "      <th>2535</th>\n",
       "      <td>The Lake, as it is known to Kolkatans, this is...</td>\n",
       "    </tr>\n",
       "    <tr>\n",
       "      <th>2544</th>\n",
       "      <td>This is one of the best places to walk , breat...</td>\n",
       "    </tr>\n",
       "    <tr>\n",
       "      <th>2551</th>\n",
       "      <td>The area contains a football stadium and the b...</td>\n",
       "    </tr>\n",
       "    <tr>\n",
       "      <th>2560</th>\n",
       "      <td>I visited this attraction with the expectation...</td>\n",
       "    </tr>\n",
       "    <tr>\n",
       "      <th>2569</th>\n",
       "      <td>Water body and grounds in south Kolkata, maint...</td>\n",
       "    </tr>\n",
       "  </tbody>\n",
       "</table>\n",
       "<p>234 rows × 1 columns</p>\n",
       "</div>"
      ],
      "text/plain": [
       "                                                 Review\n",
       "3     If you are in Salt Lake City of Kolkata, you m...\n",
       "4     Not a good place to just hang out with friends...\n",
       "6     Greenery in the city of joy...a wonderful plac...\n",
       "7     You can really enjoy a walkOf around 3 KM insi...\n",
       "13    A bit of green amidst the buildings of salt la...\n",
       "...                                                 ...\n",
       "2535  The Lake, as it is known to Kolkatans, this is...\n",
       "2544  This is one of the best places to walk , breat...\n",
       "2551  The area contains a football stadium and the b...\n",
       "2560  I visited this attraction with the expectation...\n",
       "2569  Water body and grounds in south Kolkata, maint...\n",
       "\n",
       "[234 rows x 1 columns]"
      ]
     },
     "execution_count": 27,
     "metadata": {},
     "output_type": "execute_result"
    }
   ],
   "source": [
    "# Display the new DataFrame\n",
    "negative_reviews_df"
   ]
  },
  {
   "cell_type": "code",
   "execution_count": 28,
   "id": "5fc3f645",
   "metadata": {},
   "outputs": [],
   "source": [
    "# Vectorizing the text data using TF-IDF\n",
    "vectorizer_tf = TfidfVectorizer(max_df=0.75, min_df=50, max_features=6000)\n",
    "tf_vectors = vectorizer_tf.fit_transform(negative_reviews_df['Review'])\n",
    "\n",
    "# Initializing LDA model\n",
    "lda = LatentDirichletAllocation(n_components=6, max_iter=5, learning_method='online', learning_offset=50, random_state=111)\n",
    "\n",
    "# Fitting LDA model to the TF-IDF vectors\n",
    "W = lda.fit_transform(tf_vectors)\n",
    "\n",
    "# Collecting top words for each topic\n",
    "num_words = 15\n",
    "vocab = np.array(vectorizer_tf.get_feature_names_out())\n",
    "top_words = lambda t: [vocab[i] for i in np.argsort(t)[:-num_words-1:-1]]\n",
    "topic_words = [top_words(t) for t in lda.components_]\n",
    "topics = [' '.join(t) for t in topic_words]"
   ]
  },
  {
   "cell_type": "code",
   "execution_count": 29,
   "id": "6ed33e7a",
   "metadata": {},
   "outputs": [
    {
     "data": {
      "text/plain": [
       "['you are for to can of is park there place and this time in good',\n",
       " 'park with it can is for you there kolkata in of and visit very place',\n",
       " 'and to of is for in place park it this with good can kolkata you',\n",
       " 'in with you for of is there good place it to visit and park this',\n",
       " 'very is and visit are good park it in for to of there this time',\n",
       " 'it time can of is to park place and with there you for in kolkata']"
      ]
     },
     "execution_count": 29,
     "metadata": {},
     "output_type": "execute_result"
    }
   ],
   "source": [
    "#topics extracted from data\n",
    "topics"
   ]
  },
  {
   "cell_type": "code",
   "execution_count": 30,
   "id": "342b94bd",
   "metadata": {},
   "outputs": [
    {
     "data": {
      "text/html": [
       "<div>\n",
       "<style scoped>\n",
       "    .dataframe tbody tr th:only-of-type {\n",
       "        vertical-align: middle;\n",
       "    }\n",
       "\n",
       "    .dataframe tbody tr th {\n",
       "        vertical-align: top;\n",
       "    }\n",
       "\n",
       "    .dataframe thead th {\n",
       "        text-align: right;\n",
       "    }\n",
       "</style>\n",
       "<table border=\"1\" class=\"dataframe\">\n",
       "  <thead>\n",
       "    <tr style=\"text-align: right;\">\n",
       "      <th></th>\n",
       "      <th>Topic0</th>\n",
       "      <th>Topic1</th>\n",
       "      <th>Topic2</th>\n",
       "      <th>Topic3</th>\n",
       "      <th>Topic4</th>\n",
       "      <th>Topic5</th>\n",
       "      <th>dominant_topic</th>\n",
       "    </tr>\n",
       "  </thead>\n",
       "  <tbody>\n",
       "    <tr>\n",
       "      <th>Doc0</th>\n",
       "      <td>0.04</td>\n",
       "      <td>0.04</td>\n",
       "      <td>0.78</td>\n",
       "      <td>0.04</td>\n",
       "      <td>0.04</td>\n",
       "      <td>0.04</td>\n",
       "      <td>2</td>\n",
       "    </tr>\n",
       "    <tr>\n",
       "      <th>Doc1</th>\n",
       "      <td>0.05</td>\n",
       "      <td>0.05</td>\n",
       "      <td>0.75</td>\n",
       "      <td>0.05</td>\n",
       "      <td>0.05</td>\n",
       "      <td>0.05</td>\n",
       "      <td>2</td>\n",
       "    </tr>\n",
       "    <tr>\n",
       "      <th>Doc2</th>\n",
       "      <td>0.05</td>\n",
       "      <td>0.05</td>\n",
       "      <td>0.74</td>\n",
       "      <td>0.05</td>\n",
       "      <td>0.05</td>\n",
       "      <td>0.05</td>\n",
       "      <td>2</td>\n",
       "    </tr>\n",
       "    <tr>\n",
       "      <th>Doc3</th>\n",
       "      <td>0.04</td>\n",
       "      <td>0.04</td>\n",
       "      <td>0.79</td>\n",
       "      <td>0.04</td>\n",
       "      <td>0.04</td>\n",
       "      <td>0.04</td>\n",
       "      <td>2</td>\n",
       "    </tr>\n",
       "    <tr>\n",
       "      <th>Doc4</th>\n",
       "      <td>0.05</td>\n",
       "      <td>0.05</td>\n",
       "      <td>0.75</td>\n",
       "      <td>0.05</td>\n",
       "      <td>0.05</td>\n",
       "      <td>0.05</td>\n",
       "      <td>2</td>\n",
       "    </tr>\n",
       "  </tbody>\n",
       "</table>\n",
       "</div>"
      ],
      "text/plain": [
       "      Topic0  Topic1  Topic2  Topic3  Topic4  Topic5  dominant_topic\n",
       "Doc0    0.04    0.04    0.78    0.04    0.04    0.04               2\n",
       "Doc1    0.05    0.05    0.75    0.05    0.05    0.05               2\n",
       "Doc2    0.05    0.05    0.74    0.05    0.05    0.05               2\n",
       "Doc3    0.04    0.04    0.79    0.04    0.04    0.04               2\n",
       "Doc4    0.05    0.05    0.75    0.05    0.05    0.05               2"
      ]
     },
     "execution_count": 30,
     "metadata": {},
     "output_type": "execute_result"
    }
   ],
   "source": [
    "# Identifying dominant topic for each document\n",
    "colnames = [\"Topic\" + str(i) for i in range(lda.n_components)]\n",
    "docnames = [\"Doc\" + str(i) for i in range(len(negative_reviews_df))]\n",
    "df_doc_topic = pd.DataFrame(np.round(W, 2), columns=colnames, index=docnames)\n",
    "significant_topic = np.argmax(df_doc_topic.values, axis=1)\n",
    "df_doc_topic['dominant_topic'] = significant_topic\n",
    "\n",
    "# Checking the dominant topics for documents\n",
    "df_doc_topic.head()"
   ]
  },
  {
   "cell_type": "markdown",
   "id": "cac84847",
   "metadata": {},
   "source": [
    "Dominant Topic (Topic2):\n",
    "\n",
    "The dominant topic across all documents is Topic2, as indicated by the highest probabilities in the dominant_topic column.\n",
    "This suggests that the documents share a common theme or subject matter primarily related to Topic2.\n",
    "\n",
    "Distribution of Topics:\n",
    "\n",
    "Across all documents, Topic2 consistently has the highest probability, indicating its prevalence in the dataset.\n",
    "Topics 0, 1, 3, 4, and 5 have lower probabilities, suggesting they might be secondary themes or less significant compared to Topic2.\n",
    "\n",
    "Consistency:\n",
    "\n",
    "Similar to the previous dataset, the probabilities within each document are relatively consistent, with Topic2 consistently having the highest probability and the other topics having lower, but similar probabilities.\n",
    "This consistency indicates that each document primarily focuses on Topic2, with some degree of similarity in content across the dataset."
   ]
  },
  {
   "cell_type": "code",
   "execution_count": 31,
   "id": "d6a8338f",
   "metadata": {},
   "outputs": [],
   "source": [
    "# Vectorizing the text data using TF-IDF\n",
    "vectorizer_tf = TfidfVectorizer(max_df=0.75, min_df=50, max_features=6000)\n",
    "tf_vectors = vectorizer_tf.fit_transform(positive_reviews_df['Review'])\n",
    "\n",
    "# Initializing LDA model\n",
    "lda = LatentDirichletAllocation(n_components=6, max_iter=5, learning_method='online', learning_offset=50, random_state=111)\n",
    "\n",
    "# Fitting LDA model to the TF-IDF vectors\n",
    "W = lda.fit_transform(tf_vectors)\n",
    "\n",
    "# Collecting top words for each topic\n",
    "num_words = 15\n",
    "vocab = np.array(vectorizer_tf.get_feature_names_out())\n",
    "top_words = lambda t: [vocab[i] for i in np.argsort(t)[:-num_words-1:-1]]\n",
    "topic_words = [top_words(t) for t in lda.components_]\n",
    "topics = [' '.join(t) for t in topic_words]"
   ]
  },
  {
   "cell_type": "code",
   "execution_count": 32,
   "id": "1e4ec227",
   "metadata": {},
   "outputs": [
    {
     "data": {
      "text/plain": [
       "['river ghat of bridge and is place to view in on ganges evening hooghly princep',\n",
       " 'and is to of place for in it park you science with this are there',\n",
       " 'place to spend with and is very this nice time friends good your you in',\n",
       " 'scientific is shows park to nature in for and but place experience main of very',\n",
       " 'of india and park wonders in we prinsep for garden excellent metro place so it',\n",
       " 'of popular is park for children are can here on its this and in eco']"
      ]
     },
     "execution_count": 32,
     "metadata": {},
     "output_type": "execute_result"
    }
   ],
   "source": [
    "#topics extracted from data\n",
    "topics"
   ]
  },
  {
   "cell_type": "markdown",
   "id": "ae6bcd41",
   "metadata": {},
   "source": [
    "Both the positive and negative class topics are related to parks, places to visit, and attractions in Kolkata or India. However, the positive class examples seem to emphasize positive aspects such as enjoyment, beauty, and good experiences, while the negative class examples highlight more neutral or negative aspects such as scientific features, popularity, and being a place for children."
   ]
  },
  {
   "cell_type": "code",
   "execution_count": 33,
   "id": "8c59ef90",
   "metadata": {},
   "outputs": [
    {
     "data": {
      "text/html": [
       "<div>\n",
       "<style scoped>\n",
       "    .dataframe tbody tr th:only-of-type {\n",
       "        vertical-align: middle;\n",
       "    }\n",
       "\n",
       "    .dataframe tbody tr th {\n",
       "        vertical-align: top;\n",
       "    }\n",
       "\n",
       "    .dataframe thead th {\n",
       "        text-align: right;\n",
       "    }\n",
       "</style>\n",
       "<table border=\"1\" class=\"dataframe\">\n",
       "  <thead>\n",
       "    <tr style=\"text-align: right;\">\n",
       "      <th></th>\n",
       "      <th>Topic0</th>\n",
       "      <th>Topic1</th>\n",
       "      <th>Topic2</th>\n",
       "      <th>Topic3</th>\n",
       "      <th>Topic4</th>\n",
       "      <th>Topic5</th>\n",
       "      <th>dominant_topic</th>\n",
       "    </tr>\n",
       "  </thead>\n",
       "  <tbody>\n",
       "    <tr>\n",
       "      <th>Doc0</th>\n",
       "      <td>0.03</td>\n",
       "      <td>0.87</td>\n",
       "      <td>0.03</td>\n",
       "      <td>0.03</td>\n",
       "      <td>0.03</td>\n",
       "      <td>0.03</td>\n",
       "      <td>1</td>\n",
       "    </tr>\n",
       "    <tr>\n",
       "      <th>Doc1</th>\n",
       "      <td>0.04</td>\n",
       "      <td>0.80</td>\n",
       "      <td>0.04</td>\n",
       "      <td>0.04</td>\n",
       "      <td>0.04</td>\n",
       "      <td>0.04</td>\n",
       "      <td>1</td>\n",
       "    </tr>\n",
       "    <tr>\n",
       "      <th>Doc2</th>\n",
       "      <td>0.04</td>\n",
       "      <td>0.81</td>\n",
       "      <td>0.04</td>\n",
       "      <td>0.04</td>\n",
       "      <td>0.04</td>\n",
       "      <td>0.04</td>\n",
       "      <td>1</td>\n",
       "    </tr>\n",
       "    <tr>\n",
       "      <th>Doc3</th>\n",
       "      <td>0.04</td>\n",
       "      <td>0.81</td>\n",
       "      <td>0.04</td>\n",
       "      <td>0.04</td>\n",
       "      <td>0.04</td>\n",
       "      <td>0.04</td>\n",
       "      <td>1</td>\n",
       "    </tr>\n",
       "    <tr>\n",
       "      <th>Doc4</th>\n",
       "      <td>0.04</td>\n",
       "      <td>0.81</td>\n",
       "      <td>0.04</td>\n",
       "      <td>0.04</td>\n",
       "      <td>0.04</td>\n",
       "      <td>0.04</td>\n",
       "      <td>1</td>\n",
       "    </tr>\n",
       "  </tbody>\n",
       "</table>\n",
       "</div>"
      ],
      "text/plain": [
       "      Topic0  Topic1  Topic2  Topic3  Topic4  Topic5  dominant_topic\n",
       "Doc0    0.03    0.87    0.03    0.03    0.03    0.03               1\n",
       "Doc1    0.04    0.80    0.04    0.04    0.04    0.04               1\n",
       "Doc2    0.04    0.81    0.04    0.04    0.04    0.04               1\n",
       "Doc3    0.04    0.81    0.04    0.04    0.04    0.04               1\n",
       "Doc4    0.04    0.81    0.04    0.04    0.04    0.04               1"
      ]
     },
     "execution_count": 33,
     "metadata": {},
     "output_type": "execute_result"
    }
   ],
   "source": [
    "# Identifying dominant topic for each document\n",
    "colnames = [\"Topic\" + str(i) for i in range(lda.n_components)]\n",
    "docnames = [\"Doc\" + str(i) for i in range(len(positive_reviews_df))]\n",
    "df_doc_topic = pd.DataFrame(np.round(W, 2), columns=colnames, index=docnames)\n",
    "significant_topic = np.argmax(df_doc_topic.values, axis=1)\n",
    "df_doc_topic['dominant_topic'] = significant_topic\n",
    "\n",
    "# Checking the dominant topics for documents\n",
    "df_doc_topic.head()"
   ]
  },
  {
   "cell_type": "markdown",
   "id": "22fd07fe",
   "metadata": {},
   "source": [
    "Dominant Topic (Topic1):\n",
    "\n",
    "The dominant topic across all documents is Topic1, as indicated by the highest probabilities in the dominant_topic column.\n",
    "This suggests that the documents share a common theme or subject matter primarily related to Topic1.\n",
    "\n",
    "Distribution of Topics:\n",
    "\n",
    "Across all documents, Topic1 consistently has the highest probability, indicating its prevalence in the dataset.\n",
    "Topics 0, 2, 3, 4, and 5 have lower probabilities, suggesting they might be secondary themes or less significant compared to Topic1.\n",
    "\n",
    "Consistency:\n",
    "\n",
    "The probabilities within each document are relatively consistent, with Topic1 consistently having the highest probability and the other topics having lower, but similar probabilities.\n",
    "This suggests that each document primarily focuses on Topic1, with some degree of similarity in content across the dataset."
   ]
  },
  {
   "cell_type": "markdown",
   "id": "7549059c",
   "metadata": {},
   "source": [
    "# Suggestions to the Kolkata Municipal Corporation "
   ]
  },
  {
   "cell_type": "markdown",
   "id": "21431b9e",
   "metadata": {},
   "source": [
    "**Enhance Family-Friendly Amenities**: Since family-friendly features were highlighted in one of the clusters, focusing on amenities suitable for families, such as playgrounds, picnic areas, and recreational facilities, could attract more visitors.\n",
    "\n",
    "**Invest in City Park Attractions**: City parks and attractions cluster indicates the popularity of urban parks. Enhancing infrastructure, adding recreational facilities, and organizing events could further elevate the appeal of these parks.\n",
    "\n",
    "**Promote Eco-Friendly Initiatives**: Given the emphasis on eco-friendly features in Cluster 3, implementing sustainable practices, preserving green spaces, and offering nature-based activities could attract environmentally-conscious visitors.\n",
    "\n",
    "**Addressing Negative Feedback**:\n",
    "- Based on the negative feedback, it's crucial for the Kolkata Municipal Corporation to address issues related to cleanliness, maintenance, and safety promptly.\n",
    "- Regular maintenance schedules should be implemented to ensure cleanliness and upkeep of the parks.\n",
    "Safety measures such as adequate lighting, security patrols, and proper signage should be prioritized.\n",
    "\n",
    "**Enhancing Park Amenities**:\n",
    "   - Improving amenities such as seating arrangements, recreational facilities, restroom facilities, and accessibility features can enhance visitor experience and satisfaction.\n",
    "   - Adding features like playgrounds, walking paths, fitness equipment, and green spaces can attract more visitors and improve overall park usage.\n",
    "\n",
    "**Community Engagement**:\n",
    "   - Engaging with the local community to gather feedback and suggestions for park improvement initiatives can be valuable.\n",
    "   - Conducting surveys, hosting community meetings, or establishing feedback mechanisms can help understand community preferences and priorities.\n",
    "\n",
    "**Promoting Positive Features**:\n",
    "   - Leveraging positive aspects highlighted in the positive reviews, such as scenic beauty, well-maintained areas, and available amenities, can be part of marketing and promotional efforts to attract more visitors.\n",
    "\n",
    "**Continuous Monitoring and Evaluation**:\n",
    "   - Implementing a system for ongoing monitoring and evaluation of park conditions, visitor feedback, and usage patterns can help in identifying areas for improvement and tracking progress over time.\n",
    "   - Regular audits and assessments can ensure that the parks meet established standards and cater to the needs of the community effectively.\n",
    "\n",
    "**Investing in Sustainable Practices**:\n",
    "   - Emphasizing sustainability initiatives such as green infrastructure, water conservation, waste management, and biodiversity conservation can contribute to the long-term viability and attractiveness of the parks.\n",
    "\n",
    "By addressing the identified issues and leveraging positive aspects, the Kolkata Municipal Corporation can enhance the overall quality and attractiveness of its parks, providing residents and visitors with enjoyable and memorable experiences."
   ]
  }
 ],
 "metadata": {
  "kernelspec": {
   "display_name": "Python 3 (ipykernel)",
   "language": "python",
   "name": "python3"
  },
  "language_info": {
   "codemirror_mode": {
    "name": "ipython",
    "version": 3
   },
   "file_extension": ".py",
   "mimetype": "text/x-python",
   "name": "python",
   "nbconvert_exporter": "python",
   "pygments_lexer": "ipython3",
   "version": "3.10.9"
  }
 },
 "nbformat": 4,
 "nbformat_minor": 5
}
